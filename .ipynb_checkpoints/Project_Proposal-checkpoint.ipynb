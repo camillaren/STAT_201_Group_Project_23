{
 "cells": [
  {
   "cell_type": "markdown",
   "id": "d3d70dee-5f55-4eca-b8d8-68cdc2cd0995",
   "metadata": {},
   "source": [
    "#  Exploring Factors that Influence Life Expectancy"
   ]
  },
  {
   "cell_type": "markdown",
   "id": "12489b43-f5ca-482a-bae2-b576dee0d573",
   "metadata": {},
   "source": [
    "<b> Group 23"
   ]
  },
  {
   "cell_type": "markdown",
   "id": "e7025038-1d22-4a5a-8c62-80f46fa4b7c6",
   "metadata": {},
   "source": [
    "Group member: Hannah Martin, Malachy Montemurro, Camilla Ren, Malcom Maxwell"
   ]
  },
  {
   "cell_type": "markdown",
   "id": "5ac1b869-03b7-45d8-b316-edfbd72db581",
   "metadata": {},
   "source": [
    "## Introduction"
   ]
  },
  {
   "cell_type": "markdown",
   "id": "96d6b3f5-fa9a-416f-bf47-8a53cdb9479e",
   "metadata": {},
   "source": [
    "As humans, we continuously struggle with the notion of death, death is perhaps the only thing in life that is absolute, yet many endlessly fight against this knowing, trying to delay/prolong the inevitable. There is a plethora of information, be it in formal studies, novels or even social media posts, that discuss the choices and lifestyle habits that individuals make that can either prolong your life, for example diet (Fadness et al, 2022), or shorten your life, for example substance abuse (Avendano & Jawachi, 2014). Obviously, there is an endless list of variables that contribute to living a long, healthy life, many of which we cannot control, like which country you are born into (Freeman et al., 2020). That being said, one can only benefit from having more information on the so called “do’s” and “don'ts”. As such, we have decided to conduct an analysis on the World Health Organization’s Life Expectancy data (https://www.kaggle.com/datasets/kumarajarshi/life-expectancy-who), which is a public data set, including information on 193 out of the 195 countries, in order to explore factors that significantly contribute to a country’s average life expectancy. Our analysis will be conducted using linear regression, using the Life Expectancy variable of the above mentioned dataset as our response variable. The question of focus for this analysis is, which variables/factors influence life expectancy the most for underdeveloped and developed countries (i.e. fit the regression model the best), and how well do these variables predict life expectancy. As such, this will be both a predictive and inferential analysis, and will explore many explanatory variables, including, but not limited to: Adult Mortality Rate, Country Status (developing or developed), Percentage Expendature’s (health costs by country)."
   ]
  },
  {
   "cell_type": "markdown",
   "id": "dba7da09-4293-4c4a-b922-dee882af4546",
   "metadata": {},
   "source": [
    "<b> Question: <b>"
   ]
  },
  {
   "cell_type": "markdown",
   "id": "6dacf4fd-8e3c-439a-8343-2fda59de32df",
   "metadata": {},
   "source": [
    "Which variables/factors influence life expectancy the most for underdeveloped and developed countries (i.e. fit the regression model the best), and how well do these variables predict life expectancy?"
   ]
  },
  {
   "cell_type": "markdown",
   "id": "14ab167a-eb49-4072-a87d-e6a76d2d6721",
   "metadata": {},
   "source": [
    "## Preliminary Results"
   ]
  },
  {
   "cell_type": "code",
   "execution_count": 1,
   "id": "08fc292a-7f7f-4637-8894-96ed41b614bb",
   "metadata": {},
   "outputs": [
    {
     "name": "stderr",
     "output_type": "stream",
     "text": [
      "Updating HTML index of packages in '.Library'\n",
      "\n",
      "Making 'packages.html' ...\n",
      " done\n",
      "\n"
     ]
    }
   ],
   "source": [
    "install.packages(\"tidymodels\")"
   ]
  },
  {
   "cell_type": "code",
   "execution_count": 2,
   "id": "baec9178",
   "metadata": {},
   "outputs": [
    {
     "name": "stderr",
     "output_type": "stream",
     "text": [
      "Updating HTML index of packages in '.Library'\n",
      "\n",
      "Making 'packages.html' ...\n",
      " done\n",
      "\n"
     ]
    }
   ],
   "source": [
    "install.packages(\"rlang\")"
   ]
  },
  {
   "cell_type": "code",
   "execution_count": 3,
   "id": "5949ac6c-b56e-4932-8067-2c14656c29da",
   "metadata": {},
   "outputs": [
    {
     "name": "stderr",
     "output_type": "stream",
     "text": [
      "── \u001b[1mAttaching packages\u001b[22m ─────────────────────────────────────── tidyverse 1.3.2 ──\n",
      "\u001b[32m✔\u001b[39m \u001b[34mggplot2\u001b[39m 3.3.6      \u001b[32m✔\u001b[39m \u001b[34mpurrr  \u001b[39m 0.3.5 \n",
      "\u001b[32m✔\u001b[39m \u001b[34mtibble \u001b[39m 3.1.8      \u001b[32m✔\u001b[39m \u001b[34mdplyr  \u001b[39m 1.0.10\n",
      "\u001b[32m✔\u001b[39m \u001b[34mtidyr  \u001b[39m 1.2.1      \u001b[32m✔\u001b[39m \u001b[34mstringr\u001b[39m 1.4.1 \n",
      "\u001b[32m✔\u001b[39m \u001b[34mreadr  \u001b[39m 2.1.3      \u001b[32m✔\u001b[39m \u001b[34mforcats\u001b[39m 0.5.2 \n",
      "── \u001b[1mConflicts\u001b[22m ────────────────────────────────────────── tidyverse_conflicts() ──\n",
      "\u001b[31m✖\u001b[39m \u001b[34mdplyr\u001b[39m::\u001b[32mfilter()\u001b[39m masks \u001b[34mstats\u001b[39m::filter()\n",
      "\u001b[31m✖\u001b[39m \u001b[34mdplyr\u001b[39m::\u001b[32mlag()\u001b[39m    masks \u001b[34mstats\u001b[39m::lag()\n",
      "Registered S3 method overwritten by 'GGally':\n",
      "  method from   \n",
      "  +.gg   ggplot2\n",
      "\n",
      "── \u001b[1mAttaching packages\u001b[22m ────────────────────────────────────── tidymodels 1.0.0 ──\n",
      "\n",
      "\u001b[32m✔\u001b[39m \u001b[34mdials       \u001b[39m 1.0.0     \u001b[32m✔\u001b[39m \u001b[34mtune        \u001b[39m 1.0.1\n",
      "\u001b[32m✔\u001b[39m \u001b[34mmodeldata   \u001b[39m 1.0.1     \u001b[32m✔\u001b[39m \u001b[34mworkflows   \u001b[39m 1.1.0\n",
      "\u001b[32m✔\u001b[39m \u001b[34mparsnip     \u001b[39m 1.0.2     \u001b[32m✔\u001b[39m \u001b[34mworkflowsets\u001b[39m 1.0.0\n",
      "\u001b[32m✔\u001b[39m \u001b[34mrecipes     \u001b[39m 1.0.1     \u001b[32m✔\u001b[39m \u001b[34myardstick   \u001b[39m 1.1.0\n",
      "\u001b[32m✔\u001b[39m \u001b[34mrsample     \u001b[39m 1.1.0     \n",
      "\n",
      "── \u001b[1mConflicts\u001b[22m ───────────────────────────────────────── tidymodels_conflicts() ──\n",
      "\u001b[31m✖\u001b[39m \u001b[34mscales\u001b[39m::\u001b[32mdiscard()\u001b[39m masks \u001b[34mpurrr\u001b[39m::discard()\n",
      "\u001b[31m✖\u001b[39m \u001b[34mdplyr\u001b[39m::\u001b[32mfilter()\u001b[39m   masks \u001b[34mstats\u001b[39m::filter()\n",
      "\u001b[31m✖\u001b[39m \u001b[34mrecipes\u001b[39m::\u001b[32mfixed()\u001b[39m  masks \u001b[34mstringr\u001b[39m::fixed()\n",
      "\u001b[31m✖\u001b[39m \u001b[34mdplyr\u001b[39m::\u001b[32mlag()\u001b[39m      masks \u001b[34mstats\u001b[39m::lag()\n",
      "\u001b[31m✖\u001b[39m \u001b[34myardstick\u001b[39m::\u001b[32mspec()\u001b[39m masks \u001b[34mreadr\u001b[39m::spec()\n",
      "\u001b[31m✖\u001b[39m \u001b[34mrecipes\u001b[39m::\u001b[32mstep()\u001b[39m   masks \u001b[34mstats\u001b[39m::step()\n",
      "\u001b[34m•\u001b[39m Use suppressPackageStartupMessages() to eliminate package startup messages\n",
      "\n"
     ]
    }
   ],
   "source": [
    "# Load package\n",
    "library(tidyverse)\n",
    "library(repr)\n",
    "library(readxl)\n",
    "library(infer)\n",
    "library(cowplot)\n",
    "library(GGally)\n",
    "library(broom)\n",
    "library(tidymodels)\n",
    "\n",
    "# Set seed\n",
    "set.seed(123)"
   ]
  },
  {
   "cell_type": "markdown",
   "id": "2c812630-6e45-4378-bab0-c832a79f100f",
   "metadata": {},
   "source": [
    "#### 1. Load Data"
   ]
  },
  {
   "cell_type": "code",
   "execution_count": 4,
   "id": "852b4fe7-0e2a-4f7f-bf55-9887ba76da3b",
   "metadata": {},
   "outputs": [
    {
     "name": "stderr",
     "output_type": "stream",
     "text": [
      "\u001b[1mRows: \u001b[22m\u001b[34m2938\u001b[39m \u001b[1mColumns: \u001b[22m\u001b[34m22\u001b[39m\n",
      "\u001b[36m──\u001b[39m \u001b[1mColumn specification\u001b[22m \u001b[36m────────────────────────────────────────────────────────\u001b[39m\n",
      "\u001b[1mDelimiter:\u001b[22m \",\"\n",
      "\u001b[31mchr\u001b[39m  (2): Country, Status\n",
      "\u001b[32mdbl\u001b[39m (20): Year, Life expectancy, Adult Mortality, infant deaths, Alcohol, pe...\n",
      "\n",
      "\u001b[36mℹ\u001b[39m Use `spec()` to retrieve the full column specification for this data.\n",
      "\u001b[36mℹ\u001b[39m Specify the column types or set `show_col_types = FALSE` to quiet this message.\n"
     ]
    },
    {
     "data": {
      "text/html": [
       "<table class=\"dataframe\">\n",
       "<caption>A tibble: 6 × 22</caption>\n",
       "<thead>\n",
       "\t<tr><th scope=col>Country</th><th scope=col>Year</th><th scope=col>Status</th><th scope=col>Life expectancy</th><th scope=col>Adult Mortality</th><th scope=col>infant deaths</th><th scope=col>Alcohol</th><th scope=col>percentage expenditure</th><th scope=col>Hepatitis B</th><th scope=col>Measles</th><th scope=col>⋯</th><th scope=col>Polio</th><th scope=col>Total expenditure</th><th scope=col>Diphtheria</th><th scope=col>HIV/AIDS</th><th scope=col>GDP</th><th scope=col>Population</th><th scope=col>thinness  1-19 years</th><th scope=col>thinness 5-9 years</th><th scope=col>Income composition of resources</th><th scope=col>Schooling</th></tr>\n",
       "\t<tr><th scope=col>&lt;chr&gt;</th><th scope=col>&lt;dbl&gt;</th><th scope=col>&lt;chr&gt;</th><th scope=col>&lt;dbl&gt;</th><th scope=col>&lt;dbl&gt;</th><th scope=col>&lt;dbl&gt;</th><th scope=col>&lt;dbl&gt;</th><th scope=col>&lt;dbl&gt;</th><th scope=col>&lt;dbl&gt;</th><th scope=col>&lt;dbl&gt;</th><th scope=col>⋯</th><th scope=col>&lt;dbl&gt;</th><th scope=col>&lt;dbl&gt;</th><th scope=col>&lt;dbl&gt;</th><th scope=col>&lt;dbl&gt;</th><th scope=col>&lt;dbl&gt;</th><th scope=col>&lt;dbl&gt;</th><th scope=col>&lt;dbl&gt;</th><th scope=col>&lt;dbl&gt;</th><th scope=col>&lt;dbl&gt;</th><th scope=col>&lt;dbl&gt;</th></tr>\n",
       "</thead>\n",
       "<tbody>\n",
       "\t<tr><td>Afghanistan</td><td>2015</td><td>Developing</td><td>65.0</td><td>263</td><td>62</td><td>0.01</td><td>71.279624</td><td>65</td><td>1154</td><td>⋯</td><td> 6</td><td>8.16</td><td>65</td><td>0.1</td><td>584.25921</td><td>33736494</td><td>17.2</td><td>17.3</td><td>0.479</td><td>10.1</td></tr>\n",
       "\t<tr><td>Afghanistan</td><td>2014</td><td>Developing</td><td>59.9</td><td>271</td><td>64</td><td>0.01</td><td>73.523582</td><td>62</td><td> 492</td><td>⋯</td><td>58</td><td>8.18</td><td>62</td><td>0.1</td><td>612.69651</td><td>  327582</td><td>17.5</td><td>17.5</td><td>0.476</td><td>10.0</td></tr>\n",
       "\t<tr><td>Afghanistan</td><td>2013</td><td>Developing</td><td>59.9</td><td>268</td><td>66</td><td>0.01</td><td>73.219243</td><td>64</td><td> 430</td><td>⋯</td><td>62</td><td>8.13</td><td>64</td><td>0.1</td><td>631.74498</td><td>31731688</td><td>17.7</td><td>17.7</td><td>0.470</td><td> 9.9</td></tr>\n",
       "\t<tr><td>Afghanistan</td><td>2012</td><td>Developing</td><td>59.5</td><td>272</td><td>69</td><td>0.01</td><td>78.184215</td><td>67</td><td>2787</td><td>⋯</td><td>67</td><td>8.52</td><td>67</td><td>0.1</td><td>669.95900</td><td> 3696958</td><td>17.9</td><td>18.0</td><td>0.463</td><td> 9.8</td></tr>\n",
       "\t<tr><td>Afghanistan</td><td>2011</td><td>Developing</td><td>59.2</td><td>275</td><td>71</td><td>0.01</td><td> 7.097109</td><td>68</td><td>3013</td><td>⋯</td><td>68</td><td>7.87</td><td>68</td><td>0.1</td><td> 63.53723</td><td> 2978599</td><td>18.2</td><td>18.2</td><td>0.454</td><td> 9.5</td></tr>\n",
       "\t<tr><td>Afghanistan</td><td>2010</td><td>Developing</td><td>58.8</td><td>279</td><td>74</td><td>0.01</td><td>79.679367</td><td>66</td><td>1989</td><td>⋯</td><td>66</td><td>9.20</td><td>66</td><td>0.1</td><td>553.32894</td><td> 2883167</td><td>18.4</td><td>18.4</td><td>0.448</td><td> 9.2</td></tr>\n",
       "</tbody>\n",
       "</table>\n"
      ],
      "text/latex": [
       "A tibble: 6 × 22\n",
       "\\begin{tabular}{lllllllllllllllllllll}\n",
       " Country & Year & Status & Life expectancy & Adult Mortality & infant deaths & Alcohol & percentage expenditure & Hepatitis B & Measles & ⋯ & Polio & Total expenditure & Diphtheria & HIV/AIDS & GDP & Population & thinness  1-19 years & thinness 5-9 years & Income composition of resources & Schooling\\\\\n",
       " <chr> & <dbl> & <chr> & <dbl> & <dbl> & <dbl> & <dbl> & <dbl> & <dbl> & <dbl> & ⋯ & <dbl> & <dbl> & <dbl> & <dbl> & <dbl> & <dbl> & <dbl> & <dbl> & <dbl> & <dbl>\\\\\n",
       "\\hline\n",
       "\t Afghanistan & 2015 & Developing & 65.0 & 263 & 62 & 0.01 & 71.279624 & 65 & 1154 & ⋯ &  6 & 8.16 & 65 & 0.1 & 584.25921 & 33736494 & 17.2 & 17.3 & 0.479 & 10.1\\\\\n",
       "\t Afghanistan & 2014 & Developing & 59.9 & 271 & 64 & 0.01 & 73.523582 & 62 &  492 & ⋯ & 58 & 8.18 & 62 & 0.1 & 612.69651 &   327582 & 17.5 & 17.5 & 0.476 & 10.0\\\\\n",
       "\t Afghanistan & 2013 & Developing & 59.9 & 268 & 66 & 0.01 & 73.219243 & 64 &  430 & ⋯ & 62 & 8.13 & 64 & 0.1 & 631.74498 & 31731688 & 17.7 & 17.7 & 0.470 &  9.9\\\\\n",
       "\t Afghanistan & 2012 & Developing & 59.5 & 272 & 69 & 0.01 & 78.184215 & 67 & 2787 & ⋯ & 67 & 8.52 & 67 & 0.1 & 669.95900 &  3696958 & 17.9 & 18.0 & 0.463 &  9.8\\\\\n",
       "\t Afghanistan & 2011 & Developing & 59.2 & 275 & 71 & 0.01 &  7.097109 & 68 & 3013 & ⋯ & 68 & 7.87 & 68 & 0.1 &  63.53723 &  2978599 & 18.2 & 18.2 & 0.454 &  9.5\\\\\n",
       "\t Afghanistan & 2010 & Developing & 58.8 & 279 & 74 & 0.01 & 79.679367 & 66 & 1989 & ⋯ & 66 & 9.20 & 66 & 0.1 & 553.32894 &  2883167 & 18.4 & 18.4 & 0.448 &  9.2\\\\\n",
       "\\end{tabular}\n"
      ],
      "text/markdown": [
       "\n",
       "A tibble: 6 × 22\n",
       "\n",
       "| Country &lt;chr&gt; | Year &lt;dbl&gt; | Status &lt;chr&gt; | Life expectancy &lt;dbl&gt; | Adult Mortality &lt;dbl&gt; | infant deaths &lt;dbl&gt; | Alcohol &lt;dbl&gt; | percentage expenditure &lt;dbl&gt; | Hepatitis B &lt;dbl&gt; | Measles &lt;dbl&gt; | ⋯ ⋯ | Polio &lt;dbl&gt; | Total expenditure &lt;dbl&gt; | Diphtheria &lt;dbl&gt; | HIV/AIDS &lt;dbl&gt; | GDP &lt;dbl&gt; | Population &lt;dbl&gt; | thinness  1-19 years &lt;dbl&gt; | thinness 5-9 years &lt;dbl&gt; | Income composition of resources &lt;dbl&gt; | Schooling &lt;dbl&gt; |\n",
       "|---|---|---|---|---|---|---|---|---|---|---|---|---|---|---|---|---|---|---|---|---|\n",
       "| Afghanistan | 2015 | Developing | 65.0 | 263 | 62 | 0.01 | 71.279624 | 65 | 1154 | ⋯ |  6 | 8.16 | 65 | 0.1 | 584.25921 | 33736494 | 17.2 | 17.3 | 0.479 | 10.1 |\n",
       "| Afghanistan | 2014 | Developing | 59.9 | 271 | 64 | 0.01 | 73.523582 | 62 |  492 | ⋯ | 58 | 8.18 | 62 | 0.1 | 612.69651 |   327582 | 17.5 | 17.5 | 0.476 | 10.0 |\n",
       "| Afghanistan | 2013 | Developing | 59.9 | 268 | 66 | 0.01 | 73.219243 | 64 |  430 | ⋯ | 62 | 8.13 | 64 | 0.1 | 631.74498 | 31731688 | 17.7 | 17.7 | 0.470 |  9.9 |\n",
       "| Afghanistan | 2012 | Developing | 59.5 | 272 | 69 | 0.01 | 78.184215 | 67 | 2787 | ⋯ | 67 | 8.52 | 67 | 0.1 | 669.95900 |  3696958 | 17.9 | 18.0 | 0.463 |  9.8 |\n",
       "| Afghanistan | 2011 | Developing | 59.2 | 275 | 71 | 0.01 |  7.097109 | 68 | 3013 | ⋯ | 68 | 7.87 | 68 | 0.1 |  63.53723 |  2978599 | 18.2 | 18.2 | 0.454 |  9.5 |\n",
       "| Afghanistan | 2010 | Developing | 58.8 | 279 | 74 | 0.01 | 79.679367 | 66 | 1989 | ⋯ | 66 | 9.20 | 66 | 0.1 | 553.32894 |  2883167 | 18.4 | 18.4 | 0.448 |  9.2 |\n",
       "\n"
      ],
      "text/plain": [
       "  Country     Year Status     Life expectancy Adult Mortality infant deaths\n",
       "1 Afghanistan 2015 Developing 65.0            263             62           \n",
       "2 Afghanistan 2014 Developing 59.9            271             64           \n",
       "3 Afghanistan 2013 Developing 59.9            268             66           \n",
       "4 Afghanistan 2012 Developing 59.5            272             69           \n",
       "5 Afghanistan 2011 Developing 59.2            275             71           \n",
       "6 Afghanistan 2010 Developing 58.8            279             74           \n",
       "  Alcohol percentage expenditure Hepatitis B Measles ⋯ Polio Total expenditure\n",
       "1 0.01    71.279624              65          1154    ⋯  6    8.16             \n",
       "2 0.01    73.523582              62           492    ⋯ 58    8.18             \n",
       "3 0.01    73.219243              64           430    ⋯ 62    8.13             \n",
       "4 0.01    78.184215              67          2787    ⋯ 67    8.52             \n",
       "5 0.01     7.097109              68          3013    ⋯ 68    7.87             \n",
       "6 0.01    79.679367              66          1989    ⋯ 66    9.20             \n",
       "  Diphtheria HIV/AIDS GDP       Population thinness  1-19 years\n",
       "1 65         0.1      584.25921 33736494   17.2                \n",
       "2 62         0.1      612.69651   327582   17.5                \n",
       "3 64         0.1      631.74498 31731688   17.7                \n",
       "4 67         0.1      669.95900  3696958   17.9                \n",
       "5 68         0.1       63.53723  2978599   18.2                \n",
       "6 66         0.1      553.32894  2883167   18.4                \n",
       "  thinness 5-9 years Income composition of resources Schooling\n",
       "1 17.3               0.479                           10.1     \n",
       "2 17.5               0.476                           10.0     \n",
       "3 17.7               0.470                            9.9     \n",
       "4 18.0               0.463                            9.8     \n",
       "5 18.2               0.454                            9.5     \n",
       "6 18.4               0.448                            9.2     "
      ]
     },
     "metadata": {},
     "output_type": "display_data"
    },
    {
     "data": {
      "text/html": [
       "2938"
      ],
      "text/latex": [
       "2938"
      ],
      "text/markdown": [
       "2938"
      ],
      "text/plain": [
       "[1] 2938"
      ]
     },
     "metadata": {},
     "output_type": "display_data"
    }
   ],
   "source": [
    "# Read the life expectancy data and name it as \"life_exp\"\n",
    "life_exp <- read_csv(\"https://shorturl.at/FV478\")\n",
    "head(life_exp)\n",
    "\n",
    "# Compute number of rows\n",
    "number_rows <- life_exp %>%\n",
    "               nrow()\n",
    "number_rows"
   ]
  },
  {
   "cell_type": "markdown",
   "id": "23118630-6e03-4de2-9547-7f39db0d3389",
   "metadata": {},
   "source": [
    "#### 2. Clean and Wrangle Data"
   ]
  },
  {
   "cell_type": "code",
   "execution_count": 5,
   "id": "00583cc8-e78a-494a-a306-fd323edf6024",
   "metadata": {},
   "outputs": [
    {
     "data": {
      "text/html": [
       "<table class=\"dataframe\">\n",
       "<caption>A tibble: 6 × 22</caption>\n",
       "<thead>\n",
       "\t<tr><th scope=col>Country</th><th scope=col>Year</th><th scope=col>Status</th><th scope=col>Life expectancy</th><th scope=col>Adult Mortality</th><th scope=col>infant deaths</th><th scope=col>Alcohol</th><th scope=col>percentage expenditure</th><th scope=col>Hepatitis B</th><th scope=col>Measles</th><th scope=col>⋯</th><th scope=col>Polio</th><th scope=col>Total expenditure</th><th scope=col>Diphtheria</th><th scope=col>HIV/AIDS</th><th scope=col>GDP</th><th scope=col>Population</th><th scope=col>thinness  1-19 years</th><th scope=col>thinness 5-9 years</th><th scope=col>Income composition of resources</th><th scope=col>Schooling</th></tr>\n",
       "\t<tr><th scope=col>&lt;fct&gt;</th><th scope=col>&lt;dbl&gt;</th><th scope=col>&lt;fct&gt;</th><th scope=col>&lt;dbl&gt;</th><th scope=col>&lt;dbl&gt;</th><th scope=col>&lt;dbl&gt;</th><th scope=col>&lt;dbl&gt;</th><th scope=col>&lt;dbl&gt;</th><th scope=col>&lt;dbl&gt;</th><th scope=col>&lt;dbl&gt;</th><th scope=col>⋯</th><th scope=col>&lt;dbl&gt;</th><th scope=col>&lt;dbl&gt;</th><th scope=col>&lt;dbl&gt;</th><th scope=col>&lt;dbl&gt;</th><th scope=col>&lt;dbl&gt;</th><th scope=col>&lt;dbl&gt;</th><th scope=col>&lt;dbl&gt;</th><th scope=col>&lt;dbl&gt;</th><th scope=col>&lt;dbl&gt;</th><th scope=col>&lt;dbl&gt;</th></tr>\n",
       "</thead>\n",
       "<tbody>\n",
       "\t<tr><td>Afghanistan</td><td>2015</td><td>Developing</td><td>65.0</td><td>263</td><td>62</td><td>0.01</td><td>71.279624</td><td>65</td><td>1154</td><td>⋯</td><td> 6</td><td>8.16</td><td>65</td><td>0.1</td><td>584.25921</td><td>33736494</td><td>17.2</td><td>17.3</td><td>0.479</td><td>10.1</td></tr>\n",
       "\t<tr><td>Afghanistan</td><td>2014</td><td>Developing</td><td>59.9</td><td>271</td><td>64</td><td>0.01</td><td>73.523582</td><td>62</td><td> 492</td><td>⋯</td><td>58</td><td>8.18</td><td>62</td><td>0.1</td><td>612.69651</td><td>  327582</td><td>17.5</td><td>17.5</td><td>0.476</td><td>10.0</td></tr>\n",
       "\t<tr><td>Afghanistan</td><td>2013</td><td>Developing</td><td>59.9</td><td>268</td><td>66</td><td>0.01</td><td>73.219243</td><td>64</td><td> 430</td><td>⋯</td><td>62</td><td>8.13</td><td>64</td><td>0.1</td><td>631.74498</td><td>31731688</td><td>17.7</td><td>17.7</td><td>0.470</td><td> 9.9</td></tr>\n",
       "\t<tr><td>Afghanistan</td><td>2012</td><td>Developing</td><td>59.5</td><td>272</td><td>69</td><td>0.01</td><td>78.184215</td><td>67</td><td>2787</td><td>⋯</td><td>67</td><td>8.52</td><td>67</td><td>0.1</td><td>669.95900</td><td> 3696958</td><td>17.9</td><td>18.0</td><td>0.463</td><td> 9.8</td></tr>\n",
       "\t<tr><td>Afghanistan</td><td>2011</td><td>Developing</td><td>59.2</td><td>275</td><td>71</td><td>0.01</td><td> 7.097109</td><td>68</td><td>3013</td><td>⋯</td><td>68</td><td>7.87</td><td>68</td><td>0.1</td><td> 63.53723</td><td> 2978599</td><td>18.2</td><td>18.2</td><td>0.454</td><td> 9.5</td></tr>\n",
       "\t<tr><td>Afghanistan</td><td>2010</td><td>Developing</td><td>58.8</td><td>279</td><td>74</td><td>0.01</td><td>79.679367</td><td>66</td><td>1989</td><td>⋯</td><td>66</td><td>9.20</td><td>66</td><td>0.1</td><td>553.32894</td><td> 2883167</td><td>18.4</td><td>18.4</td><td>0.448</td><td> 9.2</td></tr>\n",
       "</tbody>\n",
       "</table>\n"
      ],
      "text/latex": [
       "A tibble: 6 × 22\n",
       "\\begin{tabular}{lllllllllllllllllllll}\n",
       " Country & Year & Status & Life expectancy & Adult Mortality & infant deaths & Alcohol & percentage expenditure & Hepatitis B & Measles & ⋯ & Polio & Total expenditure & Diphtheria & HIV/AIDS & GDP & Population & thinness  1-19 years & thinness 5-9 years & Income composition of resources & Schooling\\\\\n",
       " <fct> & <dbl> & <fct> & <dbl> & <dbl> & <dbl> & <dbl> & <dbl> & <dbl> & <dbl> & ⋯ & <dbl> & <dbl> & <dbl> & <dbl> & <dbl> & <dbl> & <dbl> & <dbl> & <dbl> & <dbl>\\\\\n",
       "\\hline\n",
       "\t Afghanistan & 2015 & Developing & 65.0 & 263 & 62 & 0.01 & 71.279624 & 65 & 1154 & ⋯ &  6 & 8.16 & 65 & 0.1 & 584.25921 & 33736494 & 17.2 & 17.3 & 0.479 & 10.1\\\\\n",
       "\t Afghanistan & 2014 & Developing & 59.9 & 271 & 64 & 0.01 & 73.523582 & 62 &  492 & ⋯ & 58 & 8.18 & 62 & 0.1 & 612.69651 &   327582 & 17.5 & 17.5 & 0.476 & 10.0\\\\\n",
       "\t Afghanistan & 2013 & Developing & 59.9 & 268 & 66 & 0.01 & 73.219243 & 64 &  430 & ⋯ & 62 & 8.13 & 64 & 0.1 & 631.74498 & 31731688 & 17.7 & 17.7 & 0.470 &  9.9\\\\\n",
       "\t Afghanistan & 2012 & Developing & 59.5 & 272 & 69 & 0.01 & 78.184215 & 67 & 2787 & ⋯ & 67 & 8.52 & 67 & 0.1 & 669.95900 &  3696958 & 17.9 & 18.0 & 0.463 &  9.8\\\\\n",
       "\t Afghanistan & 2011 & Developing & 59.2 & 275 & 71 & 0.01 &  7.097109 & 68 & 3013 & ⋯ & 68 & 7.87 & 68 & 0.1 &  63.53723 &  2978599 & 18.2 & 18.2 & 0.454 &  9.5\\\\\n",
       "\t Afghanistan & 2010 & Developing & 58.8 & 279 & 74 & 0.01 & 79.679367 & 66 & 1989 & ⋯ & 66 & 9.20 & 66 & 0.1 & 553.32894 &  2883167 & 18.4 & 18.4 & 0.448 &  9.2\\\\\n",
       "\\end{tabular}\n"
      ],
      "text/markdown": [
       "\n",
       "A tibble: 6 × 22\n",
       "\n",
       "| Country &lt;fct&gt; | Year &lt;dbl&gt; | Status &lt;fct&gt; | Life expectancy &lt;dbl&gt; | Adult Mortality &lt;dbl&gt; | infant deaths &lt;dbl&gt; | Alcohol &lt;dbl&gt; | percentage expenditure &lt;dbl&gt; | Hepatitis B &lt;dbl&gt; | Measles &lt;dbl&gt; | ⋯ ⋯ | Polio &lt;dbl&gt; | Total expenditure &lt;dbl&gt; | Diphtheria &lt;dbl&gt; | HIV/AIDS &lt;dbl&gt; | GDP &lt;dbl&gt; | Population &lt;dbl&gt; | thinness  1-19 years &lt;dbl&gt; | thinness 5-9 years &lt;dbl&gt; | Income composition of resources &lt;dbl&gt; | Schooling &lt;dbl&gt; |\n",
       "|---|---|---|---|---|---|---|---|---|---|---|---|---|---|---|---|---|---|---|---|---|\n",
       "| Afghanistan | 2015 | Developing | 65.0 | 263 | 62 | 0.01 | 71.279624 | 65 | 1154 | ⋯ |  6 | 8.16 | 65 | 0.1 | 584.25921 | 33736494 | 17.2 | 17.3 | 0.479 | 10.1 |\n",
       "| Afghanistan | 2014 | Developing | 59.9 | 271 | 64 | 0.01 | 73.523582 | 62 |  492 | ⋯ | 58 | 8.18 | 62 | 0.1 | 612.69651 |   327582 | 17.5 | 17.5 | 0.476 | 10.0 |\n",
       "| Afghanistan | 2013 | Developing | 59.9 | 268 | 66 | 0.01 | 73.219243 | 64 |  430 | ⋯ | 62 | 8.13 | 64 | 0.1 | 631.74498 | 31731688 | 17.7 | 17.7 | 0.470 |  9.9 |\n",
       "| Afghanistan | 2012 | Developing | 59.5 | 272 | 69 | 0.01 | 78.184215 | 67 | 2787 | ⋯ | 67 | 8.52 | 67 | 0.1 | 669.95900 |  3696958 | 17.9 | 18.0 | 0.463 |  9.8 |\n",
       "| Afghanistan | 2011 | Developing | 59.2 | 275 | 71 | 0.01 |  7.097109 | 68 | 3013 | ⋯ | 68 | 7.87 | 68 | 0.1 |  63.53723 |  2978599 | 18.2 | 18.2 | 0.454 |  9.5 |\n",
       "| Afghanistan | 2010 | Developing | 58.8 | 279 | 74 | 0.01 | 79.679367 | 66 | 1989 | ⋯ | 66 | 9.20 | 66 | 0.1 | 553.32894 |  2883167 | 18.4 | 18.4 | 0.448 |  9.2 |\n",
       "\n"
      ],
      "text/plain": [
       "  Country     Year Status     Life expectancy Adult Mortality infant deaths\n",
       "1 Afghanistan 2015 Developing 65.0            263             62           \n",
       "2 Afghanistan 2014 Developing 59.9            271             64           \n",
       "3 Afghanistan 2013 Developing 59.9            268             66           \n",
       "4 Afghanistan 2012 Developing 59.5            272             69           \n",
       "5 Afghanistan 2011 Developing 59.2            275             71           \n",
       "6 Afghanistan 2010 Developing 58.8            279             74           \n",
       "  Alcohol percentage expenditure Hepatitis B Measles ⋯ Polio Total expenditure\n",
       "1 0.01    71.279624              65          1154    ⋯  6    8.16             \n",
       "2 0.01    73.523582              62           492    ⋯ 58    8.18             \n",
       "3 0.01    73.219243              64           430    ⋯ 62    8.13             \n",
       "4 0.01    78.184215              67          2787    ⋯ 67    8.52             \n",
       "5 0.01     7.097109              68          3013    ⋯ 68    7.87             \n",
       "6 0.01    79.679367              66          1989    ⋯ 66    9.20             \n",
       "  Diphtheria HIV/AIDS GDP       Population thinness  1-19 years\n",
       "1 65         0.1      584.25921 33736494   17.2                \n",
       "2 62         0.1      612.69651   327582   17.5                \n",
       "3 64         0.1      631.74498 31731688   17.7                \n",
       "4 67         0.1      669.95900  3696958   17.9                \n",
       "5 68         0.1       63.53723  2978599   18.2                \n",
       "6 66         0.1      553.32894  2883167   18.4                \n",
       "  thinness 5-9 years Income composition of resources Schooling\n",
       "1 17.3               0.479                           10.1     \n",
       "2 17.5               0.476                           10.0     \n",
       "3 17.7               0.470                            9.9     \n",
       "4 18.0               0.463                            9.8     \n",
       "5 18.2               0.454                            9.5     \n",
       "6 18.4               0.448                            9.2     "
      ]
     },
     "metadata": {},
     "output_type": "display_data"
    },
    {
     "data": {
      "text/html": [
       "1649"
      ],
      "text/latex": [
       "1649"
      ],
      "text/markdown": [
       "1649"
      ],
      "text/plain": [
       "[1] 1649"
      ]
     },
     "metadata": {},
     "output_type": "display_data"
    }
   ],
   "source": [
    "# Convert \"country\" and \"status\" variables to factor\n",
    "life_exp <- life_exp %>%\n",
    "           mutate(Country = as.factor(Country)) %>% \n",
    "            mutate(Status = as.factor(Status))\n",
    "\n",
    "# Remove NAs\n",
    "life_exp <- life_exp %>%\n",
    "            na.omit(life_exp)\n",
    "head(life_exp)\n",
    "\n",
    "# Compute number of rows\n",
    "number_rows_cleaned <- life_exp %>%\n",
    "                        nrow()\n",
    "\n",
    "number_rows_cleaned"
   ]
  },
  {
   "cell_type": "code",
   "execution_count": 6,
   "id": "3348de3e",
   "metadata": {},
   "outputs": [],
   "source": [
    "# rename response variable to standard naming convention\n",
    "\n",
    "colnames(life_exp)[colnames(life_exp)== \"Life expectancy\"] <- \"life_expectancy\"\n",
    "colnames(life_exp)[colnames(life_exp)== \"thinness  1-19 years\"] <- \"thin_1_19\"\n",
    "colnames(life_exp)[colnames(life_exp)== \"thinness 5-9 years\"] <- \"thin_5_9\"    \n",
    "colnames(life_exp)[colnames(life_exp)== \"HIV/AIDS\"] <- \"hiv_aids\"\n",
    "colnames(life_exp)[colnames(life_exp)== \"Income composition of resources\"] <- \"income_comp_resources\"\n",
    "\n",
    "# split into test / train datasets\n",
    "\n",
    "df_split <- initial_split(life_exp, prop=0.8, strata= life_expectancy)\n",
    "\n",
    "df_train <- training(df_split)\n",
    "df_test <- testing(df_split)"
   ]
  },
  {
   "cell_type": "markdown",
   "id": "610ffb98-03ec-400f-9dfc-27bcf0b6d40f",
   "metadata": {},
   "source": [
    "#### 3. Statistics of Data"
   ]
  },
  {
   "cell_type": "code",
   "execution_count": 7,
   "id": "44885138-50f9-4bcc-bd99-fd11f4a330b8",
   "metadata": {},
   "outputs": [
    {
     "data": {
      "text/plain": [
       "             Country          Year             Status     life_expectancy\n",
       " Honduras        :  15   Min.   :2000   Developed : 189   Min.   :44.00  \n",
       " Papua New Guinea:  15   1st Qu.:2004   Developing:1129   1st Qu.:64.40  \n",
       " Armenia         :  14   Median :2008                     Median :71.70  \n",
       " Austria         :  14   Mean   :2008                     Mean   :69.26  \n",
       " Colombia        :  14   3rd Qu.:2011                     3rd Qu.:74.90  \n",
       " Luxembourg      :  14   Max.   :2015                     Max.   :89.00  \n",
       " (Other)         :1232                                                   \n",
       " Adult Mortality infant deaths        Alcohol        percentage expenditure\n",
       " Min.   :  1.0   Min.   :   0.00   Min.   : 0.0100   Min.   :    0.00      \n",
       " 1st Qu.: 77.0   1st Qu.:   1.00   1st Qu.: 0.8125   1st Qu.:   35.94      \n",
       " Median :148.0   Median :   3.00   Median : 3.7400   Median :  137.29      \n",
       " Mean   :167.9   Mean   :  33.17   Mean   : 4.5001   Mean   :  664.35      \n",
       " 3rd Qu.:226.8   3rd Qu.:  21.00   3rd Qu.: 7.2400   3rd Qu.:  496.44      \n",
       " Max.   :723.0   Max.   :1600.00   Max.   :17.8700   Max.   :18961.35      \n",
       "                                                                           \n",
       "  Hepatitis B       Measles              BMI        under-five deaths\n",
       " Min.   : 2.00   Min.   :     0.0   Min.   : 2.00   Min.   :   0.0   \n",
       " 1st Qu.:74.00   1st Qu.:     0.0   1st Qu.:19.80   1st Qu.:   1.0   \n",
       " Median :89.00   Median :    15.0   Median :43.85   Median :   4.0   \n",
       " Mean   :79.24   Mean   :  2099.4   Mean   :38.11   Mean   :  45.1   \n",
       " 3rd Qu.:96.00   3rd Qu.:   374.5   3rd Qu.:55.58   3rd Qu.:  27.0   \n",
       " Max.   :99.00   Max.   :131441.0   Max.   :77.10   Max.   :2100.0   \n",
       "                                                                     \n",
       "     Polio       Total expenditure   Diphtheria       hiv_aids    \n",
       " Min.   : 4.00   Min.   : 0.740    Min.   : 2.00   Min.   : 0.10  \n",
       " 1st Qu.:81.00   1st Qu.: 4.380    1st Qu.:81.25   1st Qu.: 0.10  \n",
       " Median :93.00   Median : 5.790    Median :92.00   Median : 0.10  \n",
       " Mean   :83.74   Mean   : 5.906    Mean   :84.26   Mean   : 2.01  \n",
       " 3rd Qu.:97.00   3rd Qu.: 7.440    3rd Qu.:97.00   3rd Qu.: 0.70  \n",
       " Max.   :99.00   Max.   :14.390    Max.   :99.00   Max.   :50.60  \n",
       "                                                                  \n",
       "      GDP              Population          thin_1_19        thin_5_9     \n",
       " Min.   :     5.67   Min.   :3.600e+01   Min.   : 0.10   Min.   : 0.100  \n",
       " 1st Qu.:   450.36   1st Qu.:2.147e+05   1st Qu.: 1.70   1st Qu.: 1.700  \n",
       " Median :  1567.32   Median :1.454e+06   Median : 3.10   Median : 3.100  \n",
       " Mean   :  5342.14   Mean   :1.452e+07   Mean   : 4.93   Mean   : 4.935  \n",
       " 3rd Qu.:  4606.58   3rd Qu.:7.972e+06   3rd Qu.: 7.10   3rd Qu.: 7.100  \n",
       " Max.   :119172.74   Max.   :1.294e+09   Max.   :27.20   Max.   :28.200  \n",
       "                                                                         \n",
       " income_comp_resources   Schooling    \n",
       " Min.   :0.0000        Min.   : 4.20  \n",
       " 1st Qu.:0.5102        1st Qu.:10.30  \n",
       " Median :0.6700        Median :12.20  \n",
       " Mean   :0.6306        Mean   :12.07  \n",
       " 3rd Qu.:0.7478        3rd Qu.:13.80  \n",
       " Max.   :0.9360        Max.   :20.70  \n",
       "                                      "
      ]
     },
     "metadata": {},
     "output_type": "display_data"
    }
   ],
   "source": [
    "summary(df_train)"
   ]
  },
  {
   "cell_type": "markdown",
   "id": "539dadc1-dd6b-4a52-a3c3-391dbb0b736b",
   "metadata": {},
   "source": [
    "#### 4. Data Visualization"
   ]
  },
  {
   "cell_type": "code",
   "execution_count": 8,
   "id": "616aabc5-846a-4b61-9a1c-f456d615f2c0",
   "metadata": {},
   "outputs": [
    {
     "name": "stderr",
     "output_type": "stream",
     "text": [
      "Updating HTML index of packages in '.Library'\n",
      "\n",
      "Making 'packages.html' ...\n",
      " done\n",
      "\n",
      "corrplot 0.92 loaded\n",
      "\n"
     ]
    }
   ],
   "source": [
    "install.packages('corrplot')\n",
    "library(corrplot)"
   ]
  },
  {
   "cell_type": "code",
   "execution_count": null,
   "id": "80b58158-0104-4007-b480-2af05c597c44",
   "metadata": {},
   "outputs": [],
   "source": [
    "options(repr.plot.width = 60, repr.plot.height = 60)\n",
    "\n",
    "relationship_plot <- df_train %>% select(-Country) %>%\n",
    "ggpairs(upper=list(continuous = wrap(\"cor\", size=9)))\n",
    "\n",
    "relationship_plot "
   ]
  },
  {
   "cell_type": "code",
   "execution_count": null,
   "id": "99cfb008",
   "metadata": {
    "scrolled": true
   },
   "outputs": [],
   "source": [
    "#options(repr.plot.width = 30, repr.plot.height = 30)\n",
    "\n",
    "  \n",
    "df_train_num <- df_train %>% select(-Country, -Status)\n",
    "\n",
    "cor_table <- cor(df_train_num)\n",
    "cor_table"
   ]
  },
  {
   "cell_type": "code",
   "execution_count": null,
   "id": "879d100f",
   "metadata": {},
   "outputs": [],
   "source": [
    "df_high_corr <- df_train %>%\n",
    "    select(income_comp_resources, Schooling, GDP, BMI, hiv_aids, thin_1_19, thin_5_9, life_expectancy)\n",
    "\n",
    "df_high_corr_plot <- corrplot(cor(df_high_corr), type=\"upper\") # correlation plot of variables highly correlated with life exp"
   ]
  },
  {
   "cell_type": "markdown",
   "id": "70502016",
   "metadata": {},
   "source": [
    "Above displays the correlation plot of variables with correlation to life expectancy greater than 4.2"
   ]
  },
  {
   "cell_type": "code",
   "execution_count": null,
   "id": "a02846a2",
   "metadata": {},
   "outputs": [],
   "source": [
    "\n",
    "df_high_corr_status <- df_train %>% select(Status, income_comp_resources, Schooling, GDP, BMI, hiv_aids, thin_1_19, thin_5_9, life_expectancy)\n",
    "\n",
    "df_high_corr_dev <- df_high_corr_status %>% filter(Status == \"Developed\")\n",
    "df_high_corr_undev <- df_high_corr_status %>% filter(Status == \"Developing\")\n",
    "\n",
    "df_high_corr_dev <- df_high_corr_dev %>% select(-Status)\n",
    "df_high_corr_undev <- df_high_corr_undev %>% select(-Status)\n",
    "\n",
    "life_exp_developed <- cor(df_high_corr_dev)[,8] # correlation developed countries variables highly correlated with life exp\n",
    "as.data.frame(life_exp_developed)\n",
    "\n",
    "\n",
    "\n"
   ]
  },
  {
   "cell_type": "code",
   "execution_count": null,
   "id": "0587fc58",
   "metadata": {},
   "outputs": [],
   "source": [
    "life_exp_developing <- cor(df_high_corr_undev)[,8] # correlation developing countries variables highly correlated with life exp\n",
    "as.data.frame(life_exp_developing)"
   ]
  },
  {
   "cell_type": "markdown",
   "id": "1db83601",
   "metadata": {},
   "source": [
    "### Visualizing relation between 2 predictors with the highest correlation with life expectancy:"
   ]
  },
  {
   "cell_type": "code",
   "execution_count": null,
   "id": "bcb34e1b",
   "metadata": {},
   "outputs": [],
   "source": [
    "options(repr.plot.width = 10, repr.plot.height = 10)\n",
    "\n",
    "ggplot(df_train, aes(x = income_comp_resources, y = life_expectancy)) +\n",
    "    geom_point(aes(color = Status)) +\n",
    "    xlab(\"Income Compostion Resources\")+\n",
    "    ylab(\"Life Expectancy\")+\n",
    "    ggtitle(\"Income Compostion Resources vs Life Expectency\")+\n",
    "    theme(text = element_text(size=20))"
   ]
  },
  {
   "cell_type": "code",
   "execution_count": null,
   "id": "fc6bd9f4",
   "metadata": {},
   "outputs": [],
   "source": [
    "ggplot(df_train, aes(x = Schooling, y = life_expectancy)) +\n",
    "    geom_point(aes(color = Status)) +\n",
    "    xlab(\"Schooling\")+\n",
    "    ylab(\"Life Expectancy\")+\n",
    "    ggtitle(\"Schooling vs Life Expectency\")+\n",
    "    theme(text = element_text(size=20))"
   ]
  },
  {
   "cell_type": "markdown",
   "id": "9630954e",
   "metadata": {},
   "source": [
    "It appears the best two predictors for life expectancy will be schooling and income composition resources."
   ]
  },
  {
   "cell_type": "markdown",
   "id": "75798b75-f169-42de-9639-9a8675bb4906",
   "metadata": {},
   "source": [
    "## Methods: Plan"
   ]
  },
  {
   "cell_type": "markdown",
   "id": "b52639a3-f586-4026-ae77-6f487ab78741",
   "metadata": {},
   "source": [
    "<b>Methodology:<b>"
   ]
  },
  {
   "cell_type": "markdown",
   "id": "6e8435ae-6e3e-4c10-9c3d-35822195d4ca",
   "metadata": {},
   "source": [
    "After finalizing the data we are going to use (we have already conducted the preliminary cleaning/filtering), we are going to determine which explanatory variables best fit the regression model. In order to do so, we will divide our data into a test set and a training set (ratio of split is yet to be determined), and then run the stepwise forward selection algorithm on the training data, which we will likely implement using leaps’s regsubsets() function, which will allow us to explore and determine which variables create the best fitting model. The exact method for determining the best model has yet to be determined, but will  involve the use of metrics such as Mallow’s Cp, AIC, and BIC. Once we have our selected model, we can train it using R’s lm() function (using the training set), and use it to predict the average life expectancy in the test set. In order to evaluate the predictive model, we will compute the RMSE and coefficient of determination.  Furthermore, we will check LR assumptions, including, but not limited to,  checking residual plots for homoscedasticity/heteroscedasticity, and checking Q-Q plots for the error normality assumption. Lastly, it is important to note that although this is the proposed methodology, many minor (at least more minor than the steps mentioned) details/nuances have been withheld for 1. Limited word count, 2. The methodology will evolve and change during the actual analysis. "
   ]
  },
  {
   "cell_type": "markdown",
   "id": "4551b94e-ab23-4fb9-9e9f-41f9fc2c087b",
   "metadata": {},
   "source": [
    "<b> What do we expect to achieve and what impact could such findings have? <b>"
   ]
  },
  {
   "cell_type": "markdown",
   "id": "2e8f0365-e87a-49c1-a517-e72f79d02f99",
   "metadata": {},
   "source": [
    "As a group, we hope and expect to create a well fitting model that can accurately predict average life expectancy and identify which are the most important factors in estimating/predicting life expectancy. Through conducting our analysis and variable exploration, we hope that our findings will deepen others' understanding of factors that influence health/life expectancy, and allow others to make better informed life decisions. \n"
   ]
  },
  {
   "cell_type": "markdown",
   "id": "1dd8a4fe-288f-4c1a-933d-f95026062731",
   "metadata": {},
   "source": [
    "## References"
   ]
  },
  {
   "cell_type": "markdown",
   "id": "c50875e8-f122-4909-9c19-5060dc92801d",
   "metadata": {},
   "source": [
    "1. Avendano M, Kawachi I(2022). Why do Americans have shorter life expectancy and worse health than do people in other high-income countries? Annu Rev Public Health. 2014;35:307-25. https://www.ncbi.nlm.nih.gov/pmc/articles/PMC4112220/\n",
    "\n",
    "\n",
    "2. Fadnes LT, Økland J-M, Haaland ØA, Johansson KA (2022). Estimating impact of food choices on life expectancy: A modeling study. PLoS Med 19(3): e1003962. https://doi.org/10.1371/journal.pmed.1003962\n",
    "\n",
    "\n",
    "3. Freeman, T., Gesesew, H.A., Bambra, C. et al (2020). Why do some countries do better or worse in life expectancy relative to income? An analysis of Brazil, Ethiopia, and the United States of America. Int J Equity Health 19, 202.\n",
    "https://equityhealthj.biomedcentral.com/articles/10.1186/s12939-020-01315-z#cities\n",
    "KumarRajarshi. (2018, February 10). Life expectancy (WHO). Kaggle. Retrieved November 9, 2022, from https://www.kaggle.com/datasets/kumarajarshi/life-expectancy-who "
   ]
  },
  {
   "cell_type": "code",
   "execution_count": null,
   "id": "9b6f5061-7ccd-4492-baba-cf45302ad50a",
   "metadata": {},
   "outputs": [],
   "source": []
  }
 ],
 "metadata": {
  "kernelspec": {
   "display_name": "R",
   "language": "R",
   "name": "ir"
  },
  "language_info": {
   "codemirror_mode": "r",
   "file_extension": ".r",
   "mimetype": "text/x-r-source",
   "name": "R",
   "pygments_lexer": "r",
   "version": "4.1.3"
  }
 },
 "nbformat": 4,
 "nbformat_minor": 5
}
